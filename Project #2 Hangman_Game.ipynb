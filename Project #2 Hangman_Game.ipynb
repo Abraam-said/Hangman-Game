{
 "cells": [
  {
   "cell_type": "markdown",
   "id": "f1274273",
   "metadata": {},
   "source": [
    "# Hangman game"
   ]
  },
  {
   "cell_type": "code",
   "execution_count": 2,
   "id": "7f92d7d0",
   "metadata": {},
   "outputs": [],
   "source": [
    "import random"
   ]
  },
  {
   "cell_type": "code",
   "execution_count": 3,
   "id": "bc31f8a6",
   "metadata": {},
   "outputs": [],
   "source": [
    "somewords = [\n",
    "    'apple', 'banana', 'mango',\n",
    "    'strawberry', 'orange',\n",
    "    'grape', 'lemon', 'watermelon',\n",
    "    'cherry', 'coconut', 'peach', 'figs', \n",
    "    'kiwi', 'pineapple'\n",
    "]"
   ]
  },
  {
   "cell_type": "code",
   "execution_count": 5,
   "id": "4c568214",
   "metadata": {},
   "outputs": [
    {
     "name": "stdout",
     "output_type": "stream",
     "text": [
      "Guess the word! Hint: word is a name of fruit\n",
      "_ _ _ _ _ _\n",
      "\n",
      "\n",
      "Enter a letter from a-z to guess: a\n",
      "_ _ a _ _ _\n",
      "Enter a letter from a-z to guess: b\n",
      "Wrong guessing, you have left with 7 chances \n",
      "\n",
      "Enter a letter from a-z to guess: s\n",
      "Wrong guessing, you have left with 6 chances \n",
      "\n",
      "Enter a letter from a-z to guess: o\n",
      "o _ a _ _ _\n",
      "Enter a letter from a-z to guess: r\n",
      "o r a _ _ _\n",
      "Enter a letter from a-z to guess: n\n",
      "o r a n _ _\n",
      "Enter a letter from a-z to guess: g\n",
      "o r a n g _\n",
      "Enter a letter from a-z to guess: e\n",
      "o r a n g e\n",
      "Congrats! you have guessed the word correctly\n",
      "Do you want to play again y/n: n\n",
      "Thanks for playing\n"
     ]
    }
   ],
   "source": [
    "while True:\n",
    "    print('Guess the word! Hint: word is a name of fruit')\n",
    "    word = random.choice(somewords)\n",
    "    letterGussied = list('_'*len(word))\n",
    "    print(' '.join(letterGussied))\n",
    "    chances = 2 + len(word)\n",
    "    wrong_guesses = []\n",
    "    print(\"\\n\")\n",
    "\n",
    "    while chances > 0:\n",
    "        guess = input(\"Enter a letter from a-z to guess: \").lower()\n",
    "\n",
    "        #Validation on input\n",
    "        if not(guess.isalpha()):\n",
    "            print(\"Please enter letters only\")\n",
    "            \n",
    "        elif len(guess) != 1:\n",
    "            print('Please enter only one letter')\n",
    "            \n",
    "        elif guess in letterGussied:\n",
    "            print(\"You already gussied that letter before\")\n",
    "            \n",
    "        elif guess in word:\n",
    "            for i, char in enumerate(word):\n",
    "                if guess == char:\n",
    "                    letterGussied[i] = char\n",
    "            print(\" \".join(letterGussied))\n",
    "           \n",
    "        elif not(guess in wrong_guesses):\n",
    "            chances = chances - 1\n",
    "            wrong_guesses.append(guess)\n",
    "            print(f\"Wrong guessing, you have left with {chances} chances \\n\")\n",
    "        else:\n",
    "            print('You have already guessed that wrong letter before')\n",
    "\n",
    "\n",
    "        if \"\".join(letterGussied) == word:\n",
    "            print('Congrats! you have guessed the word correctly')\n",
    "            break\n",
    "\n",
    "        if chances <= 0:\n",
    "            print('You lost! Please try again')\n",
    "            print(f\"The word was {word}\")\n",
    "\n",
    "    ans = input(\"Do you want to play again y/n: \").lower()\n",
    "    if ans == 'n':\n",
    "        break\n",
    "\n",
    "print(\"Thanks for playing\")"
   ]
  }
 ],
 "metadata": {
  "kernelspec": {
   "display_name": "Python 3 (ipykernel)",
   "language": "python",
   "name": "python3"
  },
  "language_info": {
   "codemirror_mode": {
    "name": "ipython",
    "version": 3
   },
   "file_extension": ".py",
   "mimetype": "text/x-python",
   "name": "python",
   "nbconvert_exporter": "python",
   "pygments_lexer": "ipython3",
   "version": "3.9.7"
  }
 },
 "nbformat": 4,
 "nbformat_minor": 5
}
